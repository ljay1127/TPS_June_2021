{
 "cells": [
  {
   "cell_type": "code",
   "execution_count": 196,
   "metadata": {},
   "outputs": [],
   "source": [
    "import pandas as pd\n",
    "import numpy as np\n",
    "\n",
    "from sklearn.model_selection import train_test_split\n",
    "from sklearn.metrics import r2_score\n",
    "\n",
    "import tensorflow as tf\n",
    "from tensorflow.keras import Model\n",
    "from tensorflow.keras.layers import Dense, Input\n",
    "from tensorflow.keras.optimizers import Adam\n",
    "from tensorflow.keras.losses import MeanSquaredError"
   ]
  },
  {
   "cell_type": "code",
   "execution_count": 197,
   "metadata": {},
   "outputs": [],
   "source": [
    "def read_csv_data(filename):\n",
    "    return pd.read_csv(filename)"
   ]
  },
  {
   "cell_type": "code",
   "execution_count": 198,
   "metadata": {},
   "outputs": [],
   "source": [
    "def create_model(lr):\n",
    "    inputs = Input(shape=(75,))\n",
    "    x = Dense(512, activation='relu')(inputs)\n",
    "    x = Dense(256, activation='relu')(x)\n",
    "    x = Dense(128, activation='relu')(x)\n",
    "    outputs = Dense(9, activation='softmax')(x)\n",
    "    \n",
    "    model = Model(inputs=[inputs], outputs=[outputs])\n",
    "    model.compile(optimizer=Adam(lr=lr), loss=MeanSquaredError(), metrics=['mean_squared_error'])\n",
    "    \n",
    "    return model"
   ]
  },
  {
   "cell_type": "code",
   "execution_count": 199,
   "metadata": {},
   "outputs": [],
   "source": [
    "def split_xy(X):\n",
    "    y = X['target']\n",
    "    x = X.drop(columns='target')\n",
    "    \n",
    "    return x,y"
   ]
  },
  {
   "cell_type": "code",
   "execution_count": 200,
   "metadata": {},
   "outputs": [],
   "source": [
    "def create_y(y):\n",
    "    new_y = []\n",
    "    for i in y.to_list():\n",
    "        new_row = [0, 0, 0,\n",
    "                   0, 0, 0,\n",
    "                   0, 0, 0]\n",
    "        \n",
    "        if i == 'Class_1':\n",
    "            new_row[0] = 1.0\n",
    "        elif i == 'Class_2':\n",
    "            new_row[1] = 1.0\n",
    "        elif i == 'Class_3':\n",
    "            new_row[2] = 1.0\n",
    "        elif i == 'Class_4':\n",
    "            new_row[3] = 1.0\n",
    "        elif i == 'Class_5':\n",
    "            new_row[4] = 1.0\n",
    "        elif i == 'Class_6':\n",
    "            new_row[5] = 1.0\n",
    "        elif i == 'Class_7':\n",
    "            new_row[6] = 1.0\n",
    "        elif i == 'Class_8':\n",
    "            new_row[7] = 1.0\n",
    "        elif i == 'Class_9':\n",
    "            new_row[8] = 1.0\n",
    "        else:\n",
    "            print(\"ERROR! TARGET IS OUT OF RANGE!\")\n",
    "            \n",
    "        new_y.append(new_row)\n",
    "        \n",
    "    return pd.DataFrame(new_y)"
   ]
  },
  {
   "cell_type": "markdown",
   "metadata": {},
   "source": [
    "# TRAIN"
   ]
  },
  {
   "cell_type": "code",
   "execution_count": 201,
   "metadata": {},
   "outputs": [],
   "source": [
    "# READ TRAIN DATA\n",
    "df = read_csv_data('train.csv')"
   ]
  },
  {
   "cell_type": "code",
   "execution_count": 202,
   "metadata": {},
   "outputs": [],
   "source": [
    "# CREATE TF MODEL\n",
    "tf_model = create_model(lr=0.0001)"
   ]
  },
  {
   "cell_type": "code",
   "execution_count": 203,
   "metadata": {},
   "outputs": [],
   "source": [
    "# SPLIT X AND Y\n",
    "X, Y = split_xy(df)\n",
    "# SPLIT Y TARGETS\n",
    "y = create_y(Y)\n",
    "# SPLIT TRAIN TEST\n",
    "X_train, X_test, y_train, y_test = train_test_split(X, y, test_size=0.2, shuffle=True)"
   ]
  },
  {
   "cell_type": "code",
   "execution_count": 204,
   "metadata": {},
   "outputs": [
    {
     "name": "stdout",
     "output_type": "stream",
     "text": [
      "Epoch 1/100\n",
      "5000/5000 [==============================] - 18s 4ms/step - loss: 0.0926 - mean_squared_error: 0.0926\n",
      "Epoch 2/100\n",
      "5000/5000 [==============================] - 17s 3ms/step - loss: 0.0867 - mean_squared_error: 0.0867\n",
      "Epoch 3/100\n",
      "5000/5000 [==============================] - 19s 4ms/step - loss: 0.0858 - mean_squared_error: 0.0858\n",
      "Epoch 4/100\n",
      "5000/5000 [==============================] - 19s 4ms/step - loss: 0.0851 - mean_squared_error: 0.0851\n",
      "Epoch 5/100\n",
      "5000/5000 [==============================] - 17s 3ms/step - loss: 0.0844 - mean_squared_error: 0.0844\n",
      "Epoch 6/100\n",
      "5000/5000 [==============================] - 16s 3ms/step - loss: 0.0836 - mean_squared_error: 0.0836\n",
      "Epoch 7/100\n",
      "5000/5000 [==============================] - 17s 3ms/step - loss: 0.0829 - mean_squared_error: 0.0829\n",
      "Epoch 8/100\n",
      "5000/5000 [==============================] - 22s 4ms/step - loss: 0.0822 - mean_squared_error: 0.0822\n",
      "Epoch 9/100\n",
      "5000/5000 [==============================] - 18s 4ms/step - loss: 0.0810 - mean_squared_error: 0.0810\n",
      "Epoch 10/100\n",
      "5000/5000 [==============================] - 18s 4ms/step - loss: 0.0801 - mean_squared_error: 0.0801\n",
      "Epoch 11/100\n",
      "5000/5000 [==============================] - 16s 3ms/step - loss: 0.0792 - mean_squared_error: 0.0792\n",
      "Epoch 12/100\n",
      "5000/5000 [==============================] - 16s 3ms/step - loss: 0.0782 - mean_squared_error: 0.0782\n",
      "Epoch 13/100\n",
      "5000/5000 [==============================] - 16s 3ms/step - loss: 0.0772 - mean_squared_error: 0.0772\n",
      "Epoch 14/100\n",
      "5000/5000 [==============================] - 16s 3ms/step - loss: 0.0763 - mean_squared_error: 0.0763\n",
      "Epoch 15/100\n",
      "5000/5000 [==============================] - 16s 3ms/step - loss: 0.0754 - mean_squared_error: 0.0754\n",
      "Epoch 16/100\n",
      "5000/5000 [==============================] - 16s 3ms/step - loss: 0.0741 - mean_squared_error: 0.0741\n",
      "Epoch 17/100\n",
      "5000/5000 [==============================] - 16s 3ms/step - loss: 0.0733 - mean_squared_error: 0.0733\n",
      "Epoch 18/100\n",
      "5000/5000 [==============================] - 16s 3ms/step - loss: 0.0724 - mean_squared_error: 0.0724\n",
      "Epoch 19/100\n",
      "5000/5000 [==============================] - 16s 3ms/step - loss: 0.0712 - mean_squared_error: 0.0712\n",
      "Epoch 20/100\n",
      "5000/5000 [==============================] - 16s 3ms/step - loss: 0.0707 - mean_squared_error: 0.0707\n",
      "Epoch 21/100\n",
      "5000/5000 [==============================] - 16s 3ms/step - loss: 0.0698 - mean_squared_error: 0.0698\n",
      "Epoch 22/100\n",
      "5000/5000 [==============================] - 16s 3ms/step - loss: 0.0690 - mean_squared_error: 0.0690\n",
      "Epoch 23/100\n",
      "5000/5000 [==============================] - 16s 3ms/step - loss: 0.0681 - mean_squared_error: 0.0681\n",
      "Epoch 24/100\n",
      "5000/5000 [==============================] - 16s 3ms/step - loss: 0.0673 - mean_squared_error: 0.0673\n",
      "Epoch 25/100\n",
      "5000/5000 [==============================] - 16s 3ms/step - loss: 0.0663 - mean_squared_error: 0.0663\n",
      "Epoch 26/100\n",
      "5000/5000 [==============================] - 16s 3ms/step - loss: 0.0658 - mean_squared_error: 0.0658\n",
      "Epoch 27/100\n",
      "5000/5000 [==============================] - 16s 3ms/step - loss: 0.0650 - mean_squared_error: 0.0650\n",
      "Epoch 28/100\n",
      "5000/5000 [==============================] - 16s 3ms/step - loss: 0.0642 - mean_squared_error: 0.0642\n",
      "Epoch 29/100\n",
      "5000/5000 [==============================] - 16s 3ms/step - loss: 0.0635 - mean_squared_error: 0.0635\n",
      "Epoch 30/100\n",
      "5000/5000 [==============================] - 16s 3ms/step - loss: 0.0629 - mean_squared_error: 0.0629\n",
      "Epoch 31/100\n",
      "5000/5000 [==============================] - 16s 3ms/step - loss: 0.0622 - mean_squared_error: 0.0622\n",
      "Epoch 32/100\n",
      "5000/5000 [==============================] - 16s 3ms/step - loss: 0.0616 - mean_squared_error: 0.0616\n",
      "Epoch 33/100\n",
      "5000/5000 [==============================] - 16s 3ms/step - loss: 0.0610 - mean_squared_error: 0.0610\n",
      "Epoch 34/100\n",
      "5000/5000 [==============================] - 16s 3ms/step - loss: 0.0603 - mean_squared_error: 0.0603\n",
      "Epoch 35/100\n",
      "5000/5000 [==============================] - 16s 3ms/step - loss: 0.0595 - mean_squared_error: 0.0595\n",
      "Epoch 36/100\n",
      "5000/5000 [==============================] - 16s 3ms/step - loss: 0.0591 - mean_squared_error: 0.0591\n",
      "Epoch 37/100\n",
      "5000/5000 [==============================] - 16s 3ms/step - loss: 0.0585 - mean_squared_error: 0.0585\n",
      "Epoch 38/100\n",
      "5000/5000 [==============================] - 16s 3ms/step - loss: 0.0579 - mean_squared_error: 0.0579\n",
      "Epoch 39/100\n",
      "5000/5000 [==============================] - 16s 3ms/step - loss: 0.0572 - mean_squared_error: 0.0572\n",
      "Epoch 40/100\n",
      "5000/5000 [==============================] - 16s 3ms/step - loss: 0.0572 - mean_squared_error: 0.0572\n",
      "Epoch 41/100\n",
      "5000/5000 [==============================] - 16s 3ms/step - loss: 0.0564 - mean_squared_error: 0.0564\n",
      "Epoch 42/100\n",
      "5000/5000 [==============================] - 16s 3ms/step - loss: 0.0560 - mean_squared_error: 0.0560\n",
      "Epoch 43/100\n",
      "5000/5000 [==============================] - 16s 3ms/step - loss: 0.0554 - mean_squared_error: 0.0554\n",
      "Epoch 44/100\n",
      "5000/5000 [==============================] - 16s 3ms/step - loss: 0.0548 - mean_squared_error: 0.0548\n",
      "Epoch 45/100\n",
      "5000/5000 [==============================] - 16s 3ms/step - loss: 0.0545 - mean_squared_error: 0.0545\n",
      "Epoch 46/100\n",
      "5000/5000 [==============================] - 16s 3ms/step - loss: 0.0541 - mean_squared_error: 0.0541\n",
      "Epoch 47/100\n",
      "5000/5000 [==============================] - 16s 3ms/step - loss: 0.0536 - mean_squared_error: 0.0536\n",
      "Epoch 48/100\n",
      "5000/5000 [==============================] - 16s 3ms/step - loss: 0.0534 - mean_squared_error: 0.0534\n",
      "Epoch 49/100\n",
      "5000/5000 [==============================] - 16s 3ms/step - loss: 0.0531 - mean_squared_error: 0.0531\n",
      "Epoch 50/100\n",
      "5000/5000 [==============================] - 16s 3ms/step - loss: 0.0526 - mean_squared_error: 0.0526\n",
      "Epoch 51/100\n",
      "5000/5000 [==============================] - 16s 3ms/step - loss: 0.0522 - mean_squared_error: 0.0522\n",
      "Epoch 52/100\n",
      "5000/5000 [==============================] - 16s 3ms/step - loss: 0.0516 - mean_squared_error: 0.0516\n",
      "Epoch 53/100\n",
      "5000/5000 [==============================] - 16s 3ms/step - loss: 0.0514 - mean_squared_error: 0.0514\n",
      "Epoch 54/100\n",
      "5000/5000 [==============================] - 16s 3ms/step - loss: 0.0510 - mean_squared_error: 0.0510\n",
      "Epoch 55/100\n",
      "5000/5000 [==============================] - 16s 3ms/step - loss: 0.0507 - mean_squared_error: 0.0507\n",
      "Epoch 56/100\n",
      "5000/5000 [==============================] - 16s 3ms/step - loss: 0.0504 - mean_squared_error: 0.0504\n",
      "Epoch 57/100\n",
      "5000/5000 [==============================] - 16s 3ms/step - loss: 0.0500 - mean_squared_error: 0.0500\n",
      "Epoch 58/100\n",
      "5000/5000 [==============================] - 16s 3ms/step - loss: 0.0496 - mean_squared_error: 0.0496\n",
      "Epoch 59/100\n",
      "5000/5000 [==============================] - 16s 3ms/step - loss: 0.0493 - mean_squared_error: 0.0493\n",
      "Epoch 60/100\n",
      "5000/5000 [==============================] - 16s 3ms/step - loss: 0.0491 - mean_squared_error: 0.0491\n",
      "Epoch 61/100\n",
      "5000/5000 [==============================] - 16s 3ms/step - loss: 0.0487 - mean_squared_error: 0.0487\n",
      "Epoch 62/100\n",
      "5000/5000 [==============================] - 16s 3ms/step - loss: 0.0483 - mean_squared_error: 0.0483\n",
      "Epoch 63/100\n",
      "5000/5000 [==============================] - 16s 3ms/step - loss: 0.0484 - mean_squared_error: 0.0484\n",
      "Epoch 64/100\n",
      "5000/5000 [==============================] - 16s 3ms/step - loss: 0.0478 - mean_squared_error: 0.0478\n",
      "Epoch 65/100\n",
      "5000/5000 [==============================] - 16s 3ms/step - loss: 0.0475 - mean_squared_error: 0.0475\n",
      "Epoch 66/100\n",
      "5000/5000 [==============================] - 16s 3ms/step - loss: 0.0472 - mean_squared_error: 0.0472\n",
      "Epoch 67/100\n",
      "5000/5000 [==============================] - 16s 3ms/step - loss: 0.0468 - mean_squared_error: 0.0468\n",
      "Epoch 68/100\n",
      "5000/5000 [==============================] - 16s 3ms/step - loss: 0.0466 - mean_squared_error: 0.0466\n",
      "Epoch 69/100\n",
      "5000/5000 [==============================] - 16s 3ms/step - loss: 0.0465 - mean_squared_error: 0.0465\n",
      "Epoch 70/100\n",
      "5000/5000 [==============================] - 16s 3ms/step - loss: 0.0462 - mean_squared_error: 0.0462\n",
      "Epoch 71/100\n",
      "5000/5000 [==============================] - 16s 3ms/step - loss: 0.0459 - mean_squared_error: 0.0459\n",
      "Epoch 72/100\n",
      "5000/5000 [==============================] - 16s 3ms/step - loss: 0.0456 - mean_squared_error: 0.0456\n",
      "Epoch 73/100\n",
      "5000/5000 [==============================] - 17s 3ms/step - loss: 0.0455 - mean_squared_error: 0.0455\n",
      "Epoch 74/100\n",
      "5000/5000 [==============================] - 16s 3ms/step - loss: 0.0453 - mean_squared_error: 0.0453\n",
      "Epoch 75/100\n",
      "5000/5000 [==============================] - 16s 3ms/step - loss: 0.0451 - mean_squared_error: 0.0451\n",
      "Epoch 76/100\n",
      "5000/5000 [==============================] - 16s 3ms/step - loss: 0.0446 - mean_squared_error: 0.0446\n",
      "Epoch 77/100\n",
      "5000/5000 [==============================] - 16s 3ms/step - loss: 0.0443 - mean_squared_error: 0.0443\n",
      "Epoch 78/100\n",
      "5000/5000 [==============================] - 16s 3ms/step - loss: 0.0444 - mean_squared_error: 0.0444\n",
      "Epoch 79/100\n",
      "5000/5000 [==============================] - 16s 3ms/step - loss: 0.0444 - mean_squared_error: 0.0444\n",
      "Epoch 80/100\n",
      "5000/5000 [==============================] - 16s 3ms/step - loss: 0.0441 - mean_squared_error: 0.0441\n",
      "Epoch 81/100\n",
      "5000/5000 [==============================] - 16s 3ms/step - loss: 0.0435 - mean_squared_error: 0.0435\n",
      "Epoch 82/100\n",
      "5000/5000 [==============================] - 16s 3ms/step - loss: 0.0432 - mean_squared_error: 0.0432\n",
      "Epoch 83/100\n",
      "5000/5000 [==============================] - 16s 3ms/step - loss: 0.0430 - mean_squared_error: 0.0430\n",
      "Epoch 84/100\n",
      "5000/5000 [==============================] - 16s 3ms/step - loss: 0.0432 - mean_squared_error: 0.0432\n",
      "Epoch 85/100\n",
      "5000/5000 [==============================] - 16s 3ms/step - loss: 0.0430 - mean_squared_error: 0.0430\n",
      "Epoch 86/100\n",
      "5000/5000 [==============================] - 16s 3ms/step - loss: 0.0428 - mean_squared_error: 0.0428\n",
      "Epoch 87/100\n",
      "5000/5000 [==============================] - 16s 3ms/step - loss: 0.0428 - mean_squared_error: 0.0428\n",
      "Epoch 88/100\n",
      "5000/5000 [==============================] - 16s 3ms/step - loss: 0.0422 - mean_squared_error: 0.0422\n",
      "Epoch 89/100\n",
      "5000/5000 [==============================] - 16s 3ms/step - loss: 0.0423 - mean_squared_error: 0.0423\n",
      "Epoch 90/100\n",
      "5000/5000 [==============================] - 16s 3ms/step - loss: 0.0419 - mean_squared_error: 0.0419\n",
      "Epoch 91/100\n",
      "5000/5000 [==============================] - 16s 3ms/step - loss: 0.0420 - mean_squared_error: 0.0420\n",
      "Epoch 92/100\n",
      "5000/5000 [==============================] - 16s 3ms/step - loss: 0.0417 - mean_squared_error: 0.0417\n",
      "Epoch 93/100\n",
      "5000/5000 [==============================] - 17s 3ms/step - loss: 0.0415 - mean_squared_error: 0.0415\n",
      "Epoch 94/100\n",
      "5000/5000 [==============================] - 22s 4ms/step - loss: 0.0411 - mean_squared_error: 0.0411\n",
      "Epoch 95/100\n",
      "5000/5000 [==============================] - 18s 4ms/step - loss: 0.0413 - mean_squared_error: 0.0413\n",
      "Epoch 96/100\n",
      "5000/5000 [==============================] - 17s 3ms/step - loss: 0.0410 - mean_squared_error: 0.0410\n",
      "Epoch 97/100\n",
      "5000/5000 [==============================] - 18s 4ms/step - loss: 0.0408 - mean_squared_error: 0.0408\n",
      "Epoch 98/100\n",
      "5000/5000 [==============================] - 18s 4ms/step - loss: 0.0406 - mean_squared_error: 0.0406\n",
      "Epoch 99/100\n",
      "5000/5000 [==============================] - 19s 4ms/step - loss: 0.0405 - mean_squared_error: 0.0405\n",
      "Epoch 100/100\n",
      "5000/5000 [==============================] - 19s 4ms/step - loss: 0.0403 - mean_squared_error: 0.0403\n"
     ]
    },
    {
     "data": {
      "text/plain": [
       "<tensorflow.python.keras.callbacks.History at 0x7fd4e276cee0>"
      ]
     },
     "execution_count": 204,
     "metadata": {},
     "output_type": "execute_result"
    }
   ],
   "source": [
    "tf_model.fit(X_train.drop(columns='id').to_numpy(), y_train.to_numpy(), epochs=100, verbose=1)"
   ]
  },
  {
   "cell_type": "markdown",
   "metadata": {},
   "source": [
    "# TEST"
   ]
  },
  {
   "cell_type": "code",
   "execution_count": 210,
   "metadata": {},
   "outputs": [],
   "source": [
    "y_pred = tf_model.predict(X_test.drop(columns='id').to_numpy())"
   ]
  },
  {
   "cell_type": "code",
   "execution_count": 211,
   "metadata": {},
   "outputs": [
    {
     "data": {
      "text/plain": [
       "array([[4.0484443e-03, 1.5169465e-04, 3.0666724e-04, ..., 2.2396706e-03,\n",
       "        4.1414669e-04, 9.5324540e-01],\n",
       "       [3.5982473e-05, 2.5462414e-06, 1.1818248e-05, ..., 2.1607836e-04,\n",
       "        9.9949038e-01, 4.1290608e-08],\n",
       "       [2.5153359e-02, 6.8791315e-04, 6.5722503e-03, ..., 8.6617917e-02,\n",
       "        3.6268643e-01, 4.8134792e-01],\n",
       "       ...,\n",
       "       [2.6888377e-04, 5.5210869e-04, 1.1621396e-04, ..., 7.8838208e-04,\n",
       "        9.9777669e-01, 2.3823201e-05],\n",
       "       [4.8108824e-02, 7.1038622e-01, 1.2764469e-01, ..., 1.4608941e-02,\n",
       "        5.0230283e-02, 1.0400582e-02],\n",
       "       [9.8523488e-03, 4.7943933e-09, 2.9518254e-05, ..., 4.2492265e-04,\n",
       "        1.3301775e-02, 9.7605306e-01]], dtype=float32)"
      ]
     },
     "execution_count": 211,
     "metadata": {},
     "output_type": "execute_result"
    }
   ],
   "source": [
    "y_pred"
   ]
  },
  {
   "cell_type": "code",
   "execution_count": 212,
   "metadata": {},
   "outputs": [
    {
     "data": {
      "text/plain": [
       "-0.30672040151740293"
      ]
     },
     "execution_count": 212,
     "metadata": {},
     "output_type": "execute_result"
    }
   ],
   "source": [
    "r2_score(y_test, y_pred)"
   ]
  },
  {
   "cell_type": "markdown",
   "metadata": {},
   "source": [
    "# MY PREDICTION"
   ]
  },
  {
   "cell_type": "code",
   "execution_count": 213,
   "metadata": {},
   "outputs": [],
   "source": [
    "# READ TEST DATA\n",
    "df = read_csv_data('test.csv')\n",
    "y_pred = tf_model.predict(df.drop(columns='id').to_numpy())"
   ]
  },
  {
   "cell_type": "code",
   "execution_count": 214,
   "metadata": {},
   "outputs": [],
   "source": [
    "# CREATE SUBMISSION FILE\n",
    "id = df['id'].to_list()\n",
    "\n",
    "# CREATE DICTIONARY FOR DATAFRAME\n",
    "dataframe_dictionary = {\n",
    "    'id': id,\n",
    "    'Class_1': y_pred[:,0],\n",
    "    'Class_2': y_pred[:,1],\n",
    "    'Class_3': y_pred[:,2],\n",
    "    'Class_4': y_pred[:,3],\n",
    "    'Class_5': y_pred[:,4],\n",
    "    'Class_6': y_pred[:,5],\n",
    "    'Class_7': y_pred[:,6],\n",
    "    'Class_8': y_pred[:,7],\n",
    "    'Class_9': y_pred[:,8],\n",
    "}\n",
    "\n",
    "# CREATE DATAFRAME\n",
    "submission_df = pd.DataFrame(dataframe_dictionary, index=None)\n",
    "submission_df.to_csv('submission.csv', index=None)"
   ]
  },
  {
   "cell_type": "code",
   "execution_count": null,
   "metadata": {},
   "outputs": [],
   "source": []
  }
 ],
 "metadata": {
  "kernelspec": {
   "display_name": "Python 3",
   "language": "python",
   "name": "python3"
  },
  "language_info": {
   "codemirror_mode": {
    "name": "ipython",
    "version": 3
   },
   "file_extension": ".py",
   "mimetype": "text/x-python",
   "name": "python",
   "nbconvert_exporter": "python",
   "pygments_lexer": "ipython3",
   "version": "3.8.5"
  }
 },
 "nbformat": 4,
 "nbformat_minor": 4
}
