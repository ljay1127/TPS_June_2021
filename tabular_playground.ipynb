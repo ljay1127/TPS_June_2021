{
 "cells": [
  {
   "cell_type": "code",
   "execution_count": 71,
   "metadata": {},
   "outputs": [],
   "source": [
    "import pandas as pd\n",
    "import numpy as np\n",
    "\n",
    "from sklearn.model_selection import train_test_split\n",
    "from sklearn.metrics import r2_score\n",
    "\n",
    "import tensorflow as tf\n",
    "from tensorflow.keras import Model\n",
    "from tensorflow.keras.layers import Dense, Input\n",
    "from tensorflow.keras.optimizers import Adam\n",
    "from tensorflow.keras.losses import MeanSquaredError"
   ]
  },
  {
   "cell_type": "code",
   "execution_count": 72,
   "metadata": {},
   "outputs": [],
   "source": [
    "def read_csv_data(filename):\n",
    "    return pd.read_csv(filename)"
   ]
  },
  {
   "cell_type": "code",
   "execution_count": 73,
   "metadata": {},
   "outputs": [],
   "source": [
    "def create_model(lr):\n",
    "    inputs = Input(shape=(75,))\n",
    "    x = Dense(16, activation='relu')(inputs)\n",
    "    x = Dense(16, activation='relu')(x)\n",
    "    outputs = Dense(9, activation='softmax')(x)\n",
    "    \n",
    "    model = Model(inputs=[inputs], outputs=[outputs])\n",
    "    model.compile(optimizer=Adam(lr=lr), loss=MeanSquaredError())\n",
    "    \n",
    "    return model"
   ]
  },
  {
   "cell_type": "code",
   "execution_count": 74,
   "metadata": {},
   "outputs": [],
   "source": [
    "def split_xy(X):\n",
    "    y = X['target']\n",
    "    x = X.drop(columns='target')\n",
    "    \n",
    "    return x,y"
   ]
  },
  {
   "cell_type": "code",
   "execution_count": 75,
   "metadata": {},
   "outputs": [],
   "source": [
    "def create_y(y):\n",
    "    new_y = []\n",
    "    for i in y.to_list():\n",
    "        new_row = [0, 0, 0,\n",
    "                   0, 0, 0,\n",
    "                   0, 0, 0]\n",
    "        \n",
    "        if i == 'Class_1':\n",
    "            new_row[0] = 1.0\n",
    "        elif i == 'Class_2':\n",
    "            new_row[1] = 1.0\n",
    "        elif i == 'Class_3':\n",
    "            new_row[2] = 1.0\n",
    "        elif i == 'Class_4':\n",
    "            new_row[3] = 1.0\n",
    "        elif i == 'Class_5':\n",
    "            new_row[4] = 1.0\n",
    "        elif i == 'Class_6':\n",
    "            new_row[5] = 1.0\n",
    "        elif i == 'Class_7':\n",
    "            new_row[6] = 1.0\n",
    "        elif i == 'Class_8':\n",
    "            new_row[7] = 1.0\n",
    "        elif i == 'Class_9':\n",
    "            new_row[8] = 1.0\n",
    "        else:\n",
    "            print(\"ERROR! TARGET IS OUT OF RANGE!\")\n",
    "            \n",
    "        new_y.append(new_row)\n",
    "        \n",
    "    return pd.DataFrame(new_y)"
   ]
  },
  {
   "cell_type": "markdown",
   "metadata": {},
   "source": [
    "# TRAIN"
   ]
  },
  {
   "cell_type": "code",
   "execution_count": 76,
   "metadata": {},
   "outputs": [],
   "source": [
    "# READ TRAIN DATA\n",
    "df = read_csv_data('train.csv')"
   ]
  },
  {
   "cell_type": "code",
   "execution_count": 77,
   "metadata": {},
   "outputs": [],
   "source": [
    "# CREATE TF MODEL\n",
    "tf_model = create_model(lr=0.0001)"
   ]
  },
  {
   "cell_type": "code",
   "execution_count": 78,
   "metadata": {},
   "outputs": [],
   "source": [
    "# SPLIT X AND Y\n",
    "X, Y = split_xy(df)\n",
    "# SPLIT Y TARGETS\n",
    "y = create_y(Y)\n",
    "# SPLIT TRAIN TEST\n",
    "X_train, X_test, y_train, y_test = train_test_split(X, y, test_size=0.2, shuffle=True)"
   ]
  },
  {
   "cell_type": "code",
   "execution_count": 79,
   "metadata": {},
   "outputs": [
    {
     "name": "stdout",
     "output_type": "stream",
     "text": [
      "Epoch 1/100\n",
      "6250/6250 [==============================] - 8s 1ms/step - loss: 0.1192\n",
      "Epoch 2/100\n",
      "6250/6250 [==============================] - 8s 1ms/step - loss: 0.0932\n",
      "Epoch 3/100\n",
      "6250/6250 [==============================] - 8s 1ms/step - loss: 0.0905\n",
      "Epoch 4/100\n",
      "6250/6250 [==============================] - 6s 1ms/step - loss: 0.0889\n",
      "Epoch 5/100\n",
      "6250/6250 [==============================] - 6s 1ms/step - loss: 0.0879\n",
      "Epoch 6/100\n",
      "6250/6250 [==============================] - 6s 1ms/step - loss: 0.0875\n",
      "Epoch 7/100\n",
      "6250/6250 [==============================] - 6s 1ms/step - loss: 0.0873\n",
      "Epoch 8/100\n",
      "6250/6250 [==============================] - 6s 1ms/step - loss: 0.0871\n",
      "Epoch 9/100\n",
      "6250/6250 [==============================] - 6s 1ms/step - loss: 0.0870\n",
      "Epoch 10/100\n",
      "6250/6250 [==============================] - 6s 1ms/step - loss: 0.0870\n",
      "Epoch 11/100\n",
      "6250/6250 [==============================] - 6s 1ms/step - loss: 0.0868\n",
      "Epoch 12/100\n",
      "6250/6250 [==============================] - 6s 1ms/step - loss: 0.0866\n",
      "Epoch 13/100\n",
      "6250/6250 [==============================] - 6s 1ms/step - loss: 0.0866\n",
      "Epoch 14/100\n",
      "6250/6250 [==============================] - 6s 1ms/step - loss: 0.0866\n",
      "Epoch 15/100\n",
      "6250/6250 [==============================] - 6s 1ms/step - loss: 0.0866\n",
      "Epoch 16/100\n",
      "6250/6250 [==============================] - 6s 1ms/step - loss: 0.0865\n",
      "Epoch 17/100\n",
      "6250/6250 [==============================] - 7s 1ms/step - loss: 0.0864\n",
      "Epoch 18/100\n",
      "6250/6250 [==============================] - 7s 1ms/step - loss: 0.0863\n",
      "Epoch 19/100\n",
      "6250/6250 [==============================] - 6s 1ms/step - loss: 0.0862\n",
      "Epoch 20/100\n",
      "6250/6250 [==============================] - 6s 1ms/step - loss: 0.0863\n",
      "Epoch 21/100\n",
      "6250/6250 [==============================] - 6s 1ms/step - loss: 0.0862\n",
      "Epoch 22/100\n",
      "6250/6250 [==============================] - 6s 1ms/step - loss: 0.0862\n",
      "Epoch 23/100\n",
      "6250/6250 [==============================] - 7s 1ms/step - loss: 0.0862\n",
      "Epoch 24/100\n",
      "6250/6250 [==============================] - 6s 1ms/step - loss: 0.0861\n",
      "Epoch 25/100\n",
      "6250/6250 [==============================] - 6s 1ms/step - loss: 0.0862\n",
      "Epoch 26/100\n",
      "6250/6250 [==============================] - 6s 1ms/step - loss: 0.0861\n",
      "Epoch 27/100\n",
      "6250/6250 [==============================] - 6s 1ms/step - loss: 0.0861\n",
      "Epoch 28/100\n",
      "6250/6250 [==============================] - 6s 1ms/step - loss: 0.0861\n",
      "Epoch 29/100\n",
      "6250/6250 [==============================] - 6s 1ms/step - loss: 0.0861\n",
      "Epoch 30/100\n",
      "6250/6250 [==============================] - 6s 1ms/step - loss: 0.0862\n",
      "Epoch 31/100\n",
      "6250/6250 [==============================] - 6s 1ms/step - loss: 0.0861\n",
      "Epoch 32/100\n",
      "6250/6250 [==============================] - 6s 1ms/step - loss: 0.0861\n",
      "Epoch 33/100\n",
      "6250/6250 [==============================] - 6s 1ms/step - loss: 0.0860\n",
      "Epoch 34/100\n",
      "6250/6250 [==============================] - 6s 1ms/step - loss: 0.0861\n",
      "Epoch 35/100\n",
      "6250/6250 [==============================] - 6s 1ms/step - loss: 0.0859\n",
      "Epoch 36/100\n",
      "6250/6250 [==============================] - 6s 1ms/step - loss: 0.0858\n",
      "Epoch 37/100\n",
      "6250/6250 [==============================] - 6s 1ms/step - loss: 0.0859\n",
      "Epoch 38/100\n",
      "6250/6250 [==============================] - 6s 1ms/step - loss: 0.0860\n",
      "Epoch 39/100\n",
      "6250/6250 [==============================] - 6s 1ms/step - loss: 0.0859\n",
      "Epoch 40/100\n",
      "6250/6250 [==============================] - 6s 1ms/step - loss: 0.0859\n",
      "Epoch 41/100\n",
      "6250/6250 [==============================] - 6s 1ms/step - loss: 0.0860\n",
      "Epoch 42/100\n",
      "6250/6250 [==============================] - 7s 1ms/step - loss: 0.0858\n",
      "Epoch 43/100\n",
      "6250/6250 [==============================] - 6s 1ms/step - loss: 0.0858\n",
      "Epoch 44/100\n",
      "6250/6250 [==============================] - 6s 1ms/step - loss: 0.0859\n",
      "Epoch 45/100\n",
      "6250/6250 [==============================] - 6s 1ms/step - loss: 0.0859\n",
      "Epoch 46/100\n",
      "6250/6250 [==============================] - 6s 1ms/step - loss: 0.0858\n",
      "Epoch 47/100\n",
      "6250/6250 [==============================] - 6s 1ms/step - loss: 0.0860\n",
      "Epoch 48/100\n",
      "6250/6250 [==============================] - 6s 1ms/step - loss: 0.0859\n",
      "Epoch 49/100\n",
      "6250/6250 [==============================] - 6s 1ms/step - loss: 0.0859\n",
      "Epoch 50/100\n",
      "6250/6250 [==============================] - 6s 1ms/step - loss: 0.0858\n",
      "Epoch 51/100\n",
      "6250/6250 [==============================] - 6s 1000us/step - loss: 0.0858\n",
      "Epoch 52/100\n",
      "6250/6250 [==============================] - 6s 1ms/step - loss: 0.0858\n",
      "Epoch 53/100\n",
      "6250/6250 [==============================] - 6s 1ms/step - loss: 0.0858\n",
      "Epoch 54/100\n",
      "6250/6250 [==============================] - 6s 1ms/step - loss: 0.0857\n",
      "Epoch 55/100\n",
      "6250/6250 [==============================] - 6s 1ms/step - loss: 0.0858\n",
      "Epoch 56/100\n",
      "6250/6250 [==============================] - 6s 1ms/step - loss: 0.0858\n",
      "Epoch 57/100\n",
      "6250/6250 [==============================] - 6s 1ms/step - loss: 0.0858\n",
      "Epoch 58/100\n",
      "6250/6250 [==============================] - 6s 1ms/step - loss: 0.0859\n",
      "Epoch 59/100\n",
      "6250/6250 [==============================] - 6s 1ms/step - loss: 0.0858\n",
      "Epoch 60/100\n",
      "6250/6250 [==============================] - 6s 1ms/step - loss: 0.0858\n",
      "Epoch 61/100\n",
      "6250/6250 [==============================] - 6s 1ms/step - loss: 0.0857\n",
      "Epoch 62/100\n",
      "6250/6250 [==============================] - 6s 1ms/step - loss: 0.0858\n",
      "Epoch 63/100\n",
      "6250/6250 [==============================] - 6s 1ms/step - loss: 0.0858\n",
      "Epoch 64/100\n",
      "6250/6250 [==============================] - 6s 1ms/step - loss: 0.0857\n",
      "Epoch 65/100\n",
      "6250/6250 [==============================] - 6s 1ms/step - loss: 0.0857\n",
      "Epoch 66/100\n",
      "6250/6250 [==============================] - 7s 1ms/step - loss: 0.0858\n",
      "Epoch 67/100\n",
      "6250/6250 [==============================] - 6s 1ms/step - loss: 0.0858\n",
      "Epoch 68/100\n",
      "6250/6250 [==============================] - 6s 1ms/step - loss: 0.0858\n",
      "Epoch 69/100\n",
      "6250/6250 [==============================] - 6s 1ms/step - loss: 0.0857\n",
      "Epoch 70/100\n",
      "6250/6250 [==============================] - 6s 1ms/step - loss: 0.0857\n",
      "Epoch 71/100\n",
      "6250/6250 [==============================] - 6s 1ms/step - loss: 0.0858\n",
      "Epoch 72/100\n",
      "6250/6250 [==============================] - 6s 1ms/step - loss: 0.0857\n",
      "Epoch 73/100\n",
      "6250/6250 [==============================] - 6s 1ms/step - loss: 0.0857\n",
      "Epoch 74/100\n",
      "6250/6250 [==============================] - 6s 1ms/step - loss: 0.0857\n",
      "Epoch 75/100\n",
      "6250/6250 [==============================] - 6s 1ms/step - loss: 0.0858\n",
      "Epoch 76/100\n",
      "6250/6250 [==============================] - 6s 1ms/step - loss: 0.0856\n",
      "Epoch 77/100\n",
      "6250/6250 [==============================] - 6s 1ms/step - loss: 0.0857\n",
      "Epoch 78/100\n",
      "6250/6250 [==============================] - 6s 1ms/step - loss: 0.0857\n",
      "Epoch 79/100\n",
      "6250/6250 [==============================] - 6s 1ms/step - loss: 0.0856\n",
      "Epoch 80/100\n",
      "6250/6250 [==============================] - 6s 1ms/step - loss: 0.0857\n",
      "Epoch 81/100\n",
      "6250/6250 [==============================] - 6s 1ms/step - loss: 0.0857\n",
      "Epoch 82/100\n",
      "6250/6250 [==============================] - 7s 1ms/step - loss: 0.0857\n",
      "Epoch 83/100\n",
      "6250/6250 [==============================] - 6s 1ms/step - loss: 0.0858\n",
      "Epoch 84/100\n",
      "6250/6250 [==============================] - 6s 1ms/step - loss: 0.0857\n",
      "Epoch 85/100\n",
      "6250/6250 [==============================] - 6s 1ms/step - loss: 0.0856\n",
      "Epoch 86/100\n",
      "6250/6250 [==============================] - 6s 1ms/step - loss: 0.0858\n",
      "Epoch 87/100\n",
      "6250/6250 [==============================] - 6s 1ms/step - loss: 0.0857\n",
      "Epoch 88/100\n",
      "6250/6250 [==============================] - 6s 1ms/step - loss: 0.0857\n",
      "Epoch 89/100\n",
      "6250/6250 [==============================] - 6s 1ms/step - loss: 0.0856\n",
      "Epoch 90/100\n",
      "6250/6250 [==============================] - 7s 1ms/step - loss: 0.0857\n",
      "Epoch 91/100\n",
      "6250/6250 [==============================] - 8s 1ms/step - loss: 0.0857\n",
      "Epoch 92/100\n",
      "6250/6250 [==============================] - 7s 1ms/step - loss: 0.0857\n",
      "Epoch 93/100\n",
      "6250/6250 [==============================] - 6s 1ms/step - loss: 0.0857\n",
      "Epoch 94/100\n",
      "6250/6250 [==============================] - 6s 1ms/step - loss: 0.0857\n",
      "Epoch 95/100\n",
      "6250/6250 [==============================] - 6s 1ms/step - loss: 0.0857\n",
      "Epoch 96/100\n",
      "6250/6250 [==============================] - 6s 1ms/step - loss: 0.0857\n",
      "Epoch 97/100\n",
      "6250/6250 [==============================] - 6s 1ms/step - loss: 0.0856\n",
      "Epoch 98/100\n",
      "6250/6250 [==============================] - 6s 1ms/step - loss: 0.0857\n",
      "Epoch 99/100\n",
      "6250/6250 [==============================] - 6s 1ms/step - loss: 0.0857\n",
      "Epoch 100/100\n",
      "6250/6250 [==============================] - 6s 1ms/step - loss: 0.0857\n"
     ]
    },
    {
     "data": {
      "text/plain": [
       "<tensorflow.python.keras.callbacks.History at 0x7fedfac21bb0>"
      ]
     },
     "execution_count": 79,
     "metadata": {},
     "output_type": "execute_result"
    }
   ],
   "source": [
    "tf_model.fit(X.drop(columns='id').to_numpy(), y.to_numpy(), epochs=100, verbose=1)"
   ]
  },
  {
   "cell_type": "markdown",
   "metadata": {},
   "source": [
    "# TEST"
   ]
  },
  {
   "cell_type": "code",
   "execution_count": 80,
   "metadata": {},
   "outputs": [],
   "source": [
    "y_pred = tf_model.predict(X_test.drop(columns='id').to_numpy())"
   ]
  },
  {
   "cell_type": "code",
   "execution_count": 81,
   "metadata": {},
   "outputs": [
    {
     "data": {
      "text/plain": [
       "array([[0.07046665, 0.08757806, 0.08986833, ..., 0.09971991, 0.26885033,\n",
       "        0.19392015],\n",
       "       [0.05174483, 0.11408714, 0.09456849, ..., 0.09652721, 0.28581798,\n",
       "        0.16788454],\n",
       "       [0.03583154, 0.10610518, 0.08055083, ..., 0.08072391, 0.30400673,\n",
       "        0.12970854],\n",
       "       ...,\n",
       "       [0.0512664 , 0.05366268, 0.0472685 , ..., 0.10662154, 0.38595203,\n",
       "        0.13872255],\n",
       "       [0.06299122, 0.08646193, 0.06604833, ..., 0.09357388, 0.3108606 ,\n",
       "        0.16342254],\n",
       "       [0.04223694, 0.158954  , 0.11376303, ..., 0.07096929, 0.23962046,\n",
       "        0.15009235]], dtype=float32)"
      ]
     },
     "execution_count": 81,
     "metadata": {},
     "output_type": "execute_result"
    }
   ],
   "source": [
    "y_pred"
   ]
  },
  {
   "cell_type": "code",
   "execution_count": 82,
   "metadata": {},
   "outputs": [
    {
     "data": {
      "text/plain": [
       "0.03846453736312635"
      ]
     },
     "execution_count": 82,
     "metadata": {},
     "output_type": "execute_result"
    }
   ],
   "source": [
    "r2_score(y_test, y_pred)"
   ]
  },
  {
   "cell_type": "markdown",
   "metadata": {},
   "source": [
    "# MY PREDICTION"
   ]
  },
  {
   "cell_type": "code",
   "execution_count": 83,
   "metadata": {},
   "outputs": [],
   "source": [
    "# READ TEST DATA\n",
    "df = read_csv_data('test.csv')\n",
    "y_pred = tf_model.predict(df.drop(columns='id').to_numpy())"
   ]
  },
  {
   "cell_type": "code",
   "execution_count": 84,
   "metadata": {},
   "outputs": [],
   "source": [
    "# CREATE SUBMISSION FILE\n",
    "id = df['id'].to_list()\n",
    "\n",
    "# CREATE DICTIONARY FOR DATAFRAME\n",
    "dataframe_dictionary = {\n",
    "    'id': id,\n",
    "    'Class_1': y_pred[:,0],\n",
    "    'Class_2': y_pred[:,1],\n",
    "    'Class_3': y_pred[:,2],\n",
    "    'Class_4': y_pred[:,3],\n",
    "    'Class_5': y_pred[:,4],\n",
    "    'Class_6': y_pred[:,5],\n",
    "    'Class_7': y_pred[:,6],\n",
    "    'Class_8': y_pred[:,7],\n",
    "    'Class_9': y_pred[:,8],\n",
    "}\n",
    "\n",
    "# CREATE DATAFRAME\n",
    "submission_df = pd.DataFrame(dataframe_dictionary, index=None)\n",
    "submission_df.to_csv('submission.csv', index=None)"
   ]
  },
  {
   "cell_type": "code",
   "execution_count": null,
   "metadata": {},
   "outputs": [],
   "source": []
  },
  {
   "cell_type": "code",
   "execution_count": null,
   "metadata": {},
   "outputs": [],
   "source": []
  }
 ],
 "metadata": {
  "kernelspec": {
   "display_name": "Python 3",
   "language": "python",
   "name": "python3"
  },
  "language_info": {
   "codemirror_mode": {
    "name": "ipython",
    "version": 3
   },
   "file_extension": ".py",
   "mimetype": "text/x-python",
   "name": "python",
   "nbconvert_exporter": "python",
   "pygments_lexer": "ipython3",
   "version": "3.8.5"
  }
 },
 "nbformat": 4,
 "nbformat_minor": 4
}
